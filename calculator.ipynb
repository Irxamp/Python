{
  "nbformat": 4,
  "nbformat_minor": 0,
  "metadata": {
    "colab": {
      "name": "calculator.ipynb",
      "provenance": [],
      "collapsed_sections": [],
      "authorship_tag": "ABX9TyPckobcUa7iZssn69Rfl1b2",
      "include_colab_link": true
    },
    "kernelspec": {
      "name": "python3",
      "display_name": "Python 3"
    },
    "language_info": {
      "name": "python"
    }
  },
  "cells": [
    {
      "cell_type": "markdown",
      "metadata": {
        "id": "view-in-github",
        "colab_type": "text"
      },
      "source": [
        "<a href=\"https://colab.research.google.com/github/Irxamp/Pyton/blob/main/calculator.ipynb\" target=\"_parent\"><img src=\"https://colab.research.google.com/assets/colab-badge.svg\" alt=\"Open In Colab\"/></a>"
      ]
    },
    {
      "cell_type": "code",
      "execution_count": null,
      "metadata": {
        "colab": {
          "base_uri": "https://localhost:8080/"
        },
        "id": "mB2040mx-xAT",
        "outputId": "723b7cf1-fbfc-4deb-d869-d01686961ef1"
      },
      "outputs": [
        {
          "output_type": "stream",
          "name": "stdout",
          "text": [
            "what do you need to type\n",
            "Irina\n",
            "he is\"bad\"man\n",
            "hello\n",
            "world\n",
            "hello my name is Irina\n",
            "my age is 5\n"
          ]
        }
      ],
      "source": [
        "from typing_extensions import Concatenate\n",
        "test=5\n",
        "test2=\"Irina\"\n",
        "number=5 #int #integer\n",
        "\n",
        "fnumber=5.7#float\n",
        "name=\"Irina\"#str #string\n",
        "#bool\n",
        "status=True\n",
        "status=False\n",
        "#print comment\n",
        "#comment for myself\n",
        "print(\"what do you need to type\")\n",
        "print(name)\n",
        "#экранирование\n",
        "print('he is\"bad\"man')\n",
        "print(\"hello\\nworld\")#break line\n",
        "#Concatenate\n",
        "print(\"hello my name is \"+name+\"\")\n",
        "print(\"my age is \"+str(test)+\"\")\n",
        "\n",
        "\n",
        "\n",
        "\n",
        "\n",
        "\n",
        "\n",
        "\n",
        "\n",
        "\n",
        "\n",
        "\n",
        "\n",
        "\n",
        "\n",
        "\n",
        "\n",
        "\n",
        "\n"
      ]
    }
  ]
}