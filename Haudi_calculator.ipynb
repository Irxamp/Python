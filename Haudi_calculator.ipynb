{
  "nbformat": 4,
  "nbformat_minor": 0,
  "metadata": {
    "colab": {
      "name": "Haudi calculator.ipynb",
      "provenance": [],
      "collapsed_sections": [],
      "authorship_tag": "ABX9TyNv0YR1ZL4yQuYN6HsWjBfH",
      "include_colab_link": true
    },
    "kernelspec": {
      "name": "python3",
      "display_name": "Python 3"
    },
    "language_info": {
      "name": "python"
    }
  },
  "cells": [
    {
      "cell_type": "markdown",
      "metadata": {
        "id": "view-in-github",
        "colab_type": "text"
      },
      "source": [
        "<a href=\"https://colab.research.google.com/github/Irxamp/Pyton/blob/main/Haudi_calculator.ipynb\" target=\"_parent\"><img src=\"https://colab.research.google.com/assets/colab-badge.svg\" alt=\"Open In Colab\"/></a>"
      ]
    },
    {
      "cell_type": "code",
      "execution_count": 19,
      "metadata": {
        "colab": {
          "base_uri": "https://localhost:8080/"
        },
        "id": "G0ARjtFSSDb5",
        "outputId": "b8e16ebf-6bd7-4b2d-ed8f-f016551c15b7"
      },
      "outputs": [
        {
          "output_type": "stream",
          "name": "stdout",
          "text": [
            "what do you whant to do? (+,-,:,-\n",
            "type first number 6\n",
            "type second number 5\n",
            "result is:1.0\n"
          ]
        }
      ],
      "source": [
        "#calculator\n",
        "what=input(\"what do you whant to do? (+,-\")\n",
        "a=float(input(\"type first number \"))\n",
        "b=float(input(\"type second number \"))\n",
        "if what==\"+\":\n",
        "    c=float(a+b) #4 spaces only if it is true\n",
        "    print(\"result is \"+str(c))\n",
        "elif what==\"-\":\n",
        "    c=float(a-b)\n",
        "    print(\"result is:\"+str(c))\n",
        "\n",
        " \n",
        "else:\n",
        "    print(\"error\")\n",
        "       \n",
        "\n",
        "\n"
      ]
    }
  ]
}