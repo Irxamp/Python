{
  "nbformat": 4,
  "nbformat_minor": 0,
  "metadata": {
    "colab": {
      "name": "calculator 2.ipynb",
      "provenance": [],
      "authorship_tag": "ABX9TyMcf/zxIRHWLUQxrCTUFEgW",
      "include_colab_link": true
    },
    "kernelspec": {
      "name": "python3",
      "display_name": "Python 3"
    },
    "language_info": {
      "name": "python"
    }
  },
  "cells": [
    {
      "cell_type": "markdown",
      "metadata": {
        "id": "view-in-github",
        "colab_type": "text"
      },
      "source": [
        "<a href=\"https://colab.research.google.com/github/Irxamp/Pyton/blob/main/calculator_2.ipynb\" target=\"_parent\"><img src=\"https://colab.research.google.com/assets/colab-badge.svg\" alt=\"Open In Colab\"/></a>"
      ]
    },
    {
      "cell_type": "code",
      "source": [
        ""
      ],
      "metadata": {
        "id": "Tkht-TQpND0_"
      },
      "execution_count": null,
      "outputs": []
    },
    {
      "cell_type": "code",
      "execution_count": 5,
      "metadata": {
        "colab": {
          "base_uri": "https://localhost:8080/"
        },
        "id": "8SuSoj6sMBpU",
        "outputId": "89140079-c405-42a3-bea0-a8e449c5a9b3"
      },
      "outputs": [
        {
          "output_type": "stream",
          "name": "stdout",
          "text": [
            "please type your name Irina\n",
            "how old are you 20\n",
            "Hello,Irina\n",
            "You are,20\n"
          ]
        }
      ],
      "source": [
        "\n",
        "\n",
        "name=input (\"please type your name \")\n",
        "age=input(\"how old are you \")\n",
        "print( \"Hello,\"+ name +\"\")\n",
        "print ( \"You are,\"+ age +\"\")\n",
        "\n",
        "\n",
        "\n",
        "\n"
      ]
    },
    {
      "cell_type": "markdown",
      "source": [
        "# Новый раздел"
      ],
      "metadata": {
        "id": "XAGWHFdyN1y_"
      }
    },
    {
      "cell_type": "markdown",
      "source": [
        "# Новый раздел"
      ],
      "metadata": {
        "id": "b90OOViEN2Y3"
      }
    }
  ]
}